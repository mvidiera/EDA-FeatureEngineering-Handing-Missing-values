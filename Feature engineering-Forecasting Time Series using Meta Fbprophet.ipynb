{
 "cells": [
  {
   "cell_type": "markdown",
   "id": "20287806",
   "metadata": {},
   "source": [
    "\n",
    "\n",
    "https://facebook.github.io/prophet/docs/quick_start.html\n",
    "\n"
   ]
  },
  {
   "cell_type": "markdown",
   "id": "d2f073fe",
   "metadata": {},
   "source": [
    "Prophet is a large library developed by Facebook Inc. that facilitates Natural Language Processing (NLP) tasks.\n",
    " forecasting procedure\n",
    "\n",
    "conda --version\n",
    "\n",
    "conda update conda\n",
    "\n",
    "source activate FBProphet  -- new environment is created\n",
    "\n",
    "pip install pystan/ conda install pystan\n",
    "\n",
    "pip installs python packages within any environment; conda installs any package within conda environments.\n",
    "\n",
    "pip install prophet \n",
    "\n",
    "conda install -c conda -forge fbprophet \n"
   ]
  },
  {
   "cell_type": "code",
   "execution_count": 25,
   "id": "f7cd5bb1",
   "metadata": {},
   "outputs": [],
   "source": [
    "import pandas as pd\n",
    "import numpy as np\n",
    "import matplotlib\n",
    "%matplotlib inline\n",
    "#import fbprophet"
   ]
  },
  {
   "cell_type": "code",
   "execution_count": 26,
   "id": "6662ddfa",
   "metadata": {},
   "outputs": [
    {
     "ename": "ModuleNotFoundError",
     "evalue": "No module named 'fbprophet'",
     "output_type": "error",
     "traceback": [
      "\u001b[0;31m---------------------------------------------------------------------------\u001b[0m",
      "\u001b[0;31mModuleNotFoundError\u001b[0m                       Traceback (most recent call last)",
      "\u001b[0;32m/var/folders/pz/8fj7_jqs1_lglvwks1ym9jl40000gn/T/ipykernel_6581/3150249358.py\u001b[0m in \u001b[0;36m<module>\u001b[0;34m\u001b[0m\n\u001b[0;32m----> 1\u001b[0;31m \u001b[0;32mimport\u001b[0m \u001b[0mfbprophet\u001b[0m\u001b[0;34m\u001b[0m\u001b[0;34m\u001b[0m\u001b[0m\n\u001b[0m",
      "\u001b[0;31mModuleNotFoundError\u001b[0m: No module named 'fbprophet'"
     ]
    }
   ],
   "source": [
    "import fbprophet"
   ]
  },
  {
   "cell_type": "code",
   "execution_count": 27,
   "id": "89fa1f7d",
   "metadata": {},
   "outputs": [
    {
     "ename": "ModuleNotFoundError",
     "evalue": "No module named 'prophet'",
     "output_type": "error",
     "traceback": [
      "\u001b[0;31m---------------------------------------------------------------------------\u001b[0m",
      "\u001b[0;31mModuleNotFoundError\u001b[0m                       Traceback (most recent call last)",
      "\u001b[0;32m/var/folders/pz/8fj7_jqs1_lglvwks1ym9jl40000gn/T/ipykernel_6581/3534593157.py\u001b[0m in \u001b[0;36m<module>\u001b[0;34m\u001b[0m\n\u001b[0;32m----> 1\u001b[0;31m \u001b[0;32mimport\u001b[0m \u001b[0mprophet\u001b[0m\u001b[0;34m\u001b[0m\u001b[0;34m\u001b[0m\u001b[0m\n\u001b[0m",
      "\u001b[0;31mModuleNotFoundError\u001b[0m: No module named 'prophet'"
     ]
    }
   ],
   "source": [
    "import prophet\n"
   ]
  },
  {
   "cell_type": "code",
   "execution_count": 29,
   "id": "bb87cd44",
   "metadata": {},
   "outputs": [
    {
     "ename": "ModuleNotFoundError",
     "evalue": "No module named 'prophet'",
     "output_type": "error",
     "traceback": [
      "\u001b[0;31m---------------------------------------------------------------------------\u001b[0m",
      "\u001b[0;31mModuleNotFoundError\u001b[0m                       Traceback (most recent call last)",
      "\u001b[0;32m/var/folders/pz/8fj7_jqs1_lglvwks1ym9jl40000gn/T/ipykernel_6581/2493871459.py\u001b[0m in \u001b[0;36m<module>\u001b[0;34m\u001b[0m\n\u001b[0;32m----> 1\u001b[0;31m \u001b[0;32mfrom\u001b[0m \u001b[0mprophet\u001b[0m \u001b[0;32mimport\u001b[0m \u001b[0mProphet\u001b[0m\u001b[0;34m\u001b[0m\u001b[0;34m\u001b[0m\u001b[0m\n\u001b[0m",
      "\u001b[0;31mModuleNotFoundError\u001b[0m: No module named 'prophet'"
     ]
    }
   ],
   "source": [
    "from prophet import Prophet"
   ]
  },
  {
   "cell_type": "code",
   "execution_count": null,
   "id": "0897b1ea",
   "metadata": {},
   "outputs": [],
   "source": [
    "(\"/Users/melissavidiera/Downloads/Feature-Engineering-Live-sessions-master/monthly-milk-production-pounds.csv\")"
   ]
  }
 ],
 "metadata": {
  "kernelspec": {
   "display_name": "Python 3 (ipykernel)",
   "language": "python",
   "name": "python3"
  },
  "language_info": {
   "codemirror_mode": {
    "name": "ipython",
    "version": 3
   },
   "file_extension": ".py",
   "mimetype": "text/x-python",
   "name": "python",
   "nbconvert_exporter": "python",
   "pygments_lexer": "ipython3",
   "version": "3.8.8"
  }
 },
 "nbformat": 4,
 "nbformat_minor": 5
}
